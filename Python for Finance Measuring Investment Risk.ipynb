{
 "cells": [
  {
   "cell_type": "markdown",
   "id": "99af7762",
   "metadata": {},
   "source": [
    "## Calculate the standard deviation\n",
    "To calculate the risk is to calculate the variance of the investment."
   ]
  },
  {
   "cell_type": "code",
   "execution_count": 1,
   "id": "a63da34c",
   "metadata": {},
   "outputs": [],
   "source": [
    "import numpy as np\n",
    "import pandas as pd\n",
    "from pandas_datareader import data as wb\n",
    "import matplotlib.pyplot as plt"
   ]
  },
  {
   "cell_type": "code",
   "execution_count": 2,
   "id": "bb93d14a",
   "metadata": {},
   "outputs": [],
   "source": [
    "tickers =['PG','BEI.DE']\n",
    "sec_data = pd.DataFrame()\n",
    "for t in tickers:\n",
    "    sec_data[t] = wb.DataReader(t,data_source='yahoo',start='2007-1-1')['Adj Close']"
   ]
  },
  {
   "cell_type": "code",
   "execution_count": 3,
   "id": "8290155d",
   "metadata": {},
   "outputs": [
    {
     "data": {
      "text/html": [
       "<div>\n",
       "<style scoped>\n",
       "    .dataframe tbody tr th:only-of-type {\n",
       "        vertical-align: middle;\n",
       "    }\n",
       "\n",
       "    .dataframe tbody tr th {\n",
       "        vertical-align: top;\n",
       "    }\n",
       "\n",
       "    .dataframe thead th {\n",
       "        text-align: right;\n",
       "    }\n",
       "</style>\n",
       "<table border=\"1\" class=\"dataframe\">\n",
       "  <thead>\n",
       "    <tr style=\"text-align: right;\">\n",
       "      <th></th>\n",
       "      <th>PG</th>\n",
       "      <th>BEI.DE</th>\n",
       "    </tr>\n",
       "    <tr>\n",
       "      <th>Date</th>\n",
       "      <th></th>\n",
       "      <th></th>\n",
       "    </tr>\n",
       "  </thead>\n",
       "  <tbody>\n",
       "    <tr>\n",
       "      <th>2022-11-17</th>\n",
       "      <td>140.869995</td>\n",
       "      <td>102.099998</td>\n",
       "    </tr>\n",
       "    <tr>\n",
       "      <th>2022-11-18</th>\n",
       "      <td>142.570007</td>\n",
       "      <td>102.349998</td>\n",
       "    </tr>\n",
       "    <tr>\n",
       "      <th>2022-11-21</th>\n",
       "      <td>144.380005</td>\n",
       "      <td>103.449997</td>\n",
       "    </tr>\n",
       "    <tr>\n",
       "      <th>2022-11-22</th>\n",
       "      <td>145.619995</td>\n",
       "      <td>103.349998</td>\n",
       "    </tr>\n",
       "    <tr>\n",
       "      <th>2022-11-23</th>\n",
       "      <td>146.449997</td>\n",
       "      <td>103.900002</td>\n",
       "    </tr>\n",
       "  </tbody>\n",
       "</table>\n",
       "</div>"
      ],
      "text/plain": [
       "                    PG      BEI.DE\n",
       "Date                              \n",
       "2022-11-17  140.869995  102.099998\n",
       "2022-11-18  142.570007  102.349998\n",
       "2022-11-21  144.380005  103.449997\n",
       "2022-11-22  145.619995  103.349998\n",
       "2022-11-23  146.449997  103.900002"
      ]
     },
     "execution_count": 3,
     "metadata": {},
     "output_type": "execute_result"
    }
   ],
   "source": [
    "sec_data.tail()"
   ]
  },
  {
   "cell_type": "code",
   "execution_count": 6,
   "id": "dd42d8a1",
   "metadata": {},
   "outputs": [],
   "source": [
    "#calculate the log return for each day\n",
    "sec_returns=np.log(sec_data/sec_data.shift(1))"
   ]
  },
  {
   "cell_type": "code",
   "execution_count": 5,
   "id": "cee30e23",
   "metadata": {},
   "outputs": [
    {
     "data": {
      "text/html": [
       "<div>\n",
       "<style scoped>\n",
       "    .dataframe tbody tr th:only-of-type {\n",
       "        vertical-align: middle;\n",
       "    }\n",
       "\n",
       "    .dataframe tbody tr th {\n",
       "        vertical-align: top;\n",
       "    }\n",
       "\n",
       "    .dataframe thead th {\n",
       "        text-align: right;\n",
       "    }\n",
       "</style>\n",
       "<table border=\"1\" class=\"dataframe\">\n",
       "  <thead>\n",
       "    <tr style=\"text-align: right;\">\n",
       "      <th></th>\n",
       "      <th>PG</th>\n",
       "      <th>BEI.DE</th>\n",
       "    </tr>\n",
       "    <tr>\n",
       "      <th>Date</th>\n",
       "      <th></th>\n",
       "      <th></th>\n",
       "    </tr>\n",
       "  </thead>\n",
       "  <tbody>\n",
       "    <tr>\n",
       "      <th>2007-01-03</th>\n",
       "      <td>NaN</td>\n",
       "      <td>NaN</td>\n",
       "    </tr>\n",
       "    <tr>\n",
       "      <th>2007-01-04</th>\n",
       "      <td>-0.007621</td>\n",
       "      <td>0.006544</td>\n",
       "    </tr>\n",
       "    <tr>\n",
       "      <th>2007-01-05</th>\n",
       "      <td>-0.008624</td>\n",
       "      <td>-0.020772</td>\n",
       "    </tr>\n",
       "    <tr>\n",
       "      <th>2007-01-08</th>\n",
       "      <td>0.002202</td>\n",
       "      <td>0.000202</td>\n",
       "    </tr>\n",
       "    <tr>\n",
       "      <th>2007-01-09</th>\n",
       "      <td>-0.002517</td>\n",
       "      <td>-0.022858</td>\n",
       "    </tr>\n",
       "    <tr>\n",
       "      <th>...</th>\n",
       "      <td>...</td>\n",
       "      <td>...</td>\n",
       "    </tr>\n",
       "    <tr>\n",
       "      <th>2022-11-17</th>\n",
       "      <td>-0.006157</td>\n",
       "      <td>0.009348</td>\n",
       "    </tr>\n",
       "    <tr>\n",
       "      <th>2022-11-18</th>\n",
       "      <td>0.011996</td>\n",
       "      <td>0.002446</td>\n",
       "    </tr>\n",
       "    <tr>\n",
       "      <th>2022-11-21</th>\n",
       "      <td>0.012616</td>\n",
       "      <td>0.010690</td>\n",
       "    </tr>\n",
       "    <tr>\n",
       "      <th>2022-11-22</th>\n",
       "      <td>0.008552</td>\n",
       "      <td>-0.000967</td>\n",
       "    </tr>\n",
       "    <tr>\n",
       "      <th>2022-11-23</th>\n",
       "      <td>0.005684</td>\n",
       "      <td>0.005308</td>\n",
       "    </tr>\n",
       "  </tbody>\n",
       "</table>\n",
       "<p>4003 rows × 2 columns</p>\n",
       "</div>"
      ],
      "text/plain": [
       "                  PG    BEI.DE\n",
       "Date                          \n",
       "2007-01-03       NaN       NaN\n",
       "2007-01-04 -0.007621  0.006544\n",
       "2007-01-05 -0.008624 -0.020772\n",
       "2007-01-08  0.002202  0.000202\n",
       "2007-01-09 -0.002517 -0.022858\n",
       "...              ...       ...\n",
       "2022-11-17 -0.006157  0.009348\n",
       "2022-11-18  0.011996  0.002446\n",
       "2022-11-21  0.012616  0.010690\n",
       "2022-11-22  0.008552 -0.000967\n",
       "2022-11-23  0.005684  0.005308\n",
       "\n",
       "[4003 rows x 2 columns]"
      ]
     },
     "execution_count": 5,
     "metadata": {},
     "output_type": "execute_result"
    }
   ],
   "source": [
    "sec_returns"
   ]
  },
  {
   "cell_type": "code",
   "execution_count": 7,
   "id": "3f448096",
   "metadata": {},
   "outputs": [
    {
     "data": {
      "text/plain": [
       "0.08016912693332047"
      ]
     },
     "execution_count": 7,
     "metadata": {},
     "output_type": "execute_result"
    }
   ],
   "source": [
    "#calculate the mean and standard deviation for the year\n",
    "sec_returns['PG'].mean()*250"
   ]
  },
  {
   "cell_type": "code",
   "execution_count": 8,
   "id": "f5f08a52",
   "metadata": {},
   "outputs": [
    {
     "data": {
      "text/plain": [
       "0.1878235437842421"
      ]
     },
     "execution_count": 8,
     "metadata": {},
     "output_type": "execute_result"
    }
   ],
   "source": [
    "sec_returns['PG'].std()*250**0.5"
   ]
  },
  {
   "cell_type": "markdown",
   "id": "ede97d2b",
   "metadata": {},
   "source": [
    "$var*250 = std**2 *250$\n",
    "\n",
    "$(var*250)**0.5 = std*250**0.5$"
   ]
  },
  {
   "cell_type": "code",
   "execution_count": 9,
   "id": "119ddfb4",
   "metadata": {},
   "outputs": [
    {
     "data": {
      "text/plain": [
       "0.054095033137851946"
      ]
     },
     "execution_count": 9,
     "metadata": {},
     "output_type": "execute_result"
    }
   ],
   "source": [
    "sec_returns['BEI.DE'].mean()*250"
   ]
  },
  {
   "cell_type": "code",
   "execution_count": 10,
   "id": "ad1ed569",
   "metadata": {},
   "outputs": [
    {
     "data": {
      "text/plain": [
       "0.21864929800314067"
      ]
     },
     "execution_count": 10,
     "metadata": {},
     "output_type": "execute_result"
    }
   ],
   "source": [
    "sec_returns['BEI.DE'].std()*250**0.5"
   ]
  },
  {
   "cell_type": "markdown",
   "id": "b1d42671",
   "metadata": {},
   "source": [
    "## Quantify the relationship between a diversed investment in a portfolio\n",
    "correlation coefficient: $\\rho xy = \\frac{(x-\\bar{x})*(y-\\bar{y})}{\\sigma x\\sigma y}$\n",
    "\n",
    "Covariance = $(x-\\bar{x})*(y-\\bar{y})$"
   ]
  },
  {
   "cell_type": "code",
   "execution_count": 11,
   "id": "deba8216",
   "metadata": {},
   "outputs": [],
   "source": [
    "#calculate the variance\n",
    "PG_var = sec_returns['PG'].var()\n",
    "BEI_var = sec_returns['BEI.DE'].var()"
   ]
  },
  {
   "cell_type": "code",
   "execution_count": 14,
   "id": "ac467c34",
   "metadata": {},
   "outputs": [
    {
     "data": {
      "text/plain": [
       "0.03527768359967111"
      ]
     },
     "execution_count": 14,
     "metadata": {},
     "output_type": "execute_result"
    }
   ],
   "source": [
    "PG_var_a = PG_var*250\n",
    "PG_var_a"
   ]
  },
  {
   "cell_type": "code",
   "execution_count": 16,
   "id": "086bc0cc",
   "metadata": {},
   "outputs": [
    {
     "data": {
      "text/plain": [
       "0.0001912300620690649"
      ]
     },
     "execution_count": 16,
     "metadata": {},
     "output_type": "execute_result"
    }
   ],
   "source": [
    "BEI_var_a = BEI_var*250\n",
    "BEI_var"
   ]
  },
  {
   "cell_type": "code",
   "execution_count": 17,
   "id": "0ed70e23",
   "metadata": {},
   "outputs": [
    {
     "data": {
      "text/html": [
       "<div>\n",
       "<style scoped>\n",
       "    .dataframe tbody tr th:only-of-type {\n",
       "        vertical-align: middle;\n",
       "    }\n",
       "\n",
       "    .dataframe tbody tr th {\n",
       "        vertical-align: top;\n",
       "    }\n",
       "\n",
       "    .dataframe thead th {\n",
       "        text-align: right;\n",
       "    }\n",
       "</style>\n",
       "<table border=\"1\" class=\"dataframe\">\n",
       "  <thead>\n",
       "    <tr style=\"text-align: right;\">\n",
       "      <th></th>\n",
       "      <th>PG</th>\n",
       "      <th>BEI.DE</th>\n",
       "    </tr>\n",
       "  </thead>\n",
       "  <tbody>\n",
       "    <tr>\n",
       "      <th>PG</th>\n",
       "      <td>0.000141</td>\n",
       "      <td>0.000044</td>\n",
       "    </tr>\n",
       "    <tr>\n",
       "      <th>BEI.DE</th>\n",
       "      <td>0.000044</td>\n",
       "      <td>0.000191</td>\n",
       "    </tr>\n",
       "  </tbody>\n",
       "</table>\n",
       "</div>"
      ],
      "text/plain": [
       "              PG    BEI.DE\n",
       "PG      0.000141  0.000044\n",
       "BEI.DE  0.000044  0.000191"
      ]
     },
     "execution_count": 17,
     "metadata": {},
     "output_type": "execute_result"
    }
   ],
   "source": [
    "#calculate the covariance\n",
    "cov_matrix = sec_returns.cov()\n",
    "cov_matrix"
   ]
  },
  {
   "cell_type": "code",
   "execution_count": 18,
   "id": "4b7d8350",
   "metadata": {},
   "outputs": [
    {
     "data": {
      "text/html": [
       "<div>\n",
       "<style scoped>\n",
       "    .dataframe tbody tr th:only-of-type {\n",
       "        vertical-align: middle;\n",
       "    }\n",
       "\n",
       "    .dataframe tbody tr th {\n",
       "        vertical-align: top;\n",
       "    }\n",
       "\n",
       "    .dataframe thead th {\n",
       "        text-align: right;\n",
       "    }\n",
       "</style>\n",
       "<table border=\"1\" class=\"dataframe\">\n",
       "  <thead>\n",
       "    <tr style=\"text-align: right;\">\n",
       "      <th></th>\n",
       "      <th>PG</th>\n",
       "      <th>BEI.DE</th>\n",
       "    </tr>\n",
       "  </thead>\n",
       "  <tbody>\n",
       "    <tr>\n",
       "      <th>PG</th>\n",
       "      <td>0.035278</td>\n",
       "      <td>0.011021</td>\n",
       "    </tr>\n",
       "    <tr>\n",
       "      <th>BEI.DE</th>\n",
       "      <td>0.011021</td>\n",
       "      <td>0.047808</td>\n",
       "    </tr>\n",
       "  </tbody>\n",
       "</table>\n",
       "</div>"
      ],
      "text/plain": [
       "              PG    BEI.DE\n",
       "PG      0.035278  0.011021\n",
       "BEI.DE  0.011021  0.047808"
      ]
     },
     "execution_count": 18,
     "metadata": {},
     "output_type": "execute_result"
    }
   ],
   "source": [
    "cov_matrix_a = sec_returns.cov()*250\n",
    "cov_matrix_a"
   ]
  },
  {
   "cell_type": "markdown",
   "id": "6a7add14",
   "metadata": {},
   "source": [
    "Interpretation: 0.035278 is the variance of PG, and 0.047808 is the variance of BEI.DE. The variance is on the diagonal."
   ]
  },
  {
   "cell_type": "code",
   "execution_count": 19,
   "id": "3ad766d6",
   "metadata": {},
   "outputs": [
    {
     "data": {
      "text/html": [
       "<div>\n",
       "<style scoped>\n",
       "    .dataframe tbody tr th:only-of-type {\n",
       "        vertical-align: middle;\n",
       "    }\n",
       "\n",
       "    .dataframe tbody tr th {\n",
       "        vertical-align: top;\n",
       "    }\n",
       "\n",
       "    .dataframe thead th {\n",
       "        text-align: right;\n",
       "    }\n",
       "</style>\n",
       "<table border=\"1\" class=\"dataframe\">\n",
       "  <thead>\n",
       "    <tr style=\"text-align: right;\">\n",
       "      <th></th>\n",
       "      <th>PG</th>\n",
       "      <th>BEI.DE</th>\n",
       "    </tr>\n",
       "  </thead>\n",
       "  <tbody>\n",
       "    <tr>\n",
       "      <th>PG</th>\n",
       "      <td>1.000000</td>\n",
       "      <td>0.267883</td>\n",
       "    </tr>\n",
       "    <tr>\n",
       "      <th>BEI.DE</th>\n",
       "      <td>0.267883</td>\n",
       "      <td>1.000000</td>\n",
       "    </tr>\n",
       "  </tbody>\n",
       "</table>\n",
       "</div>"
      ],
      "text/plain": [
       "              PG    BEI.DE\n",
       "PG      1.000000  0.267883\n",
       "BEI.DE  0.267883  1.000000"
      ]
     },
     "execution_count": 19,
     "metadata": {},
     "output_type": "execute_result"
    }
   ],
   "source": [
    "#calculate the correlation coefficient\n",
    "corr_matrix = sec_returns.corr()\n",
    "corr_matrix"
   ]
  },
  {
   "cell_type": "markdown",
   "id": "d75cf86a",
   "metadata": {},
   "source": [
    "Interpretation: the correlation between PG's return and BEI.DE's return is 0.268. Pay attention that the correlation of prices is not the same as the correlation of returns."
   ]
  },
  {
   "cell_type": "markdown",
   "id": "b4611a96",
   "metadata": {},
   "source": [
    "## Portfolio variance (2 stocks)\n",
    "$(w1\\sigma 1 + w2\\sigma 2)^2$ = $w1^2 \\sigma 1^2 +2w1\\sigma 1 w2\\sigma2 \\rho 12 + w2^2 \\sigma2^2$\n",
    "\n",
    "w1+w2 =1\n",
    "\n",
    "w1 & w 2 are the weights of the 2 stocks\n",
    "\n",
    "Remember to use the right equation to calculate portfolio variance (count the covariance in)"
   ]
  },
  {
   "cell_type": "markdown",
   "id": "bfa21414",
   "metadata": {},
   "source": [
    "# Calculate portfolio risk"
   ]
  },
  {
   "cell_type": "code",
   "execution_count": 20,
   "id": "aafab210",
   "metadata": {},
   "outputs": [],
   "source": [
    "#set the weights of the 2 stocks\n",
    "weights = np.array([0.5,0.5])"
   ]
  },
  {
   "cell_type": "code",
   "execution_count": 21,
   "id": "269cf563",
   "metadata": {},
   "outputs": [
    {
     "data": {
      "text/plain": [
       "0.026281633522067086"
      ]
     },
     "execution_count": 21,
     "metadata": {},
     "output_type": "execute_result"
    }
   ],
   "source": [
    "#calculate portfolio variance (based on linear algebra)\n",
    "pfolio_var = np.dot(weights.T,np.dot(sec_returns.cov()*250,weights))\n",
    "pfolio_var"
   ]
  },
  {
   "cell_type": "code",
   "execution_count": 22,
   "id": "32b13d31",
   "metadata": {},
   "outputs": [
    {
     "data": {
      "text/plain": [
       "0.16211611123533368"
      ]
     },
     "execution_count": 22,
     "metadata": {},
     "output_type": "execute_result"
    }
   ],
   "source": [
    "# calculate Portfolio volatility\n",
    "pfolio_vol = (np.dot(weights.T,np.dot(sec_returns.cov()*250, weights)))**0.5\n",
    "pfolio_vol"
   ]
  },
  {
   "cell_type": "code",
   "execution_count": 25,
   "id": "caba287f",
   "metadata": {},
   "outputs": [
    {
     "name": "stdout",
     "output_type": "stream",
     "text": [
      "16.212 %\n"
     ]
    }
   ],
   "source": [
    "print (str(round(pfolio_vol,5)*100)+ ' %')"
   ]
  },
  {
   "cell_type": "markdown",
   "id": "8830d32b",
   "metadata": {},
   "source": [
    "## Systematic vs. Idiosyncratic risk\n",
    "* systematic risk = un-diversifiable risk: depends on the variance of each individual security. Cannot be eliminated.\n",
    "* idiosyncratic risk = diversifiable risk = company specific risk: driven by company-specific events. Can be eliminated with diversification.\n",
    "* diversifiable risk = portfolio variance - weighted annual variances"
   ]
  },
  {
   "cell_type": "code",
   "execution_count": 26,
   "id": "c2151b52",
   "metadata": {},
   "outputs": [
    {
     "name": "stdout",
     "output_type": "stream",
     "text": [
      "0.5\n",
      "0.5\n"
     ]
    }
   ],
   "source": [
    "#set the weights\n",
    "weights = np.array([0.5,0.5])\n",
    "print(weights[0])\n",
    "print(weights[1])"
   ]
  },
  {
   "cell_type": "code",
   "execution_count": 27,
   "id": "92511699",
   "metadata": {},
   "outputs": [
    {
     "data": {
      "text/plain": [
       "0.03527768359967111"
      ]
     },
     "execution_count": 27,
     "metadata": {},
     "output_type": "execute_result"
    }
   ],
   "source": [
    "#diversifiable risk:\n",
    "PG_var_a"
   ]
  },
  {
   "cell_type": "code",
   "execution_count": 28,
   "id": "3c2f9f0f",
   "metadata": {},
   "outputs": [
    {
     "data": {
      "text/plain": [
       "0.047807515517266225"
      ]
     },
     "execution_count": 28,
     "metadata": {},
     "output_type": "execute_result"
    }
   ],
   "source": [
    "BEI_var_a"
   ]
  },
  {
   "cell_type": "code",
   "execution_count": 29,
   "id": "3b564403",
   "metadata": {},
   "outputs": [
    {
     "data": {
      "text/plain": [
       "0.005510333742832753"
      ]
     },
     "execution_count": 29,
     "metadata": {},
     "output_type": "execute_result"
    }
   ],
   "source": [
    "dr = pfolio_var - (weights[0]**2*PG_var_a) - (weights[1]**2*BEI_var_a)\n",
    "dr"
   ]
  },
  {
   "cell_type": "code",
   "execution_count": 30,
   "id": "1ffcde44",
   "metadata": {},
   "outputs": [
    {
     "data": {
      "text/plain": [
       "0.020771299779234333"
      ]
     },
     "execution_count": 30,
     "metadata": {},
     "output_type": "execute_result"
    }
   ],
   "source": [
    "#non-diversifiable risk\n",
    "n_dr_1 = pfolio_var - dr\n",
    "n_dr_1"
   ]
  },
  {
   "cell_type": "code",
   "execution_count": 33,
   "id": "3d732144",
   "metadata": {},
   "outputs": [
    {
     "data": {
      "text/plain": [
       "0.020771299779234333"
      ]
     },
     "execution_count": 33,
     "metadata": {},
     "output_type": "execute_result"
    }
   ],
   "source": [
    "# the 2nd method to calculate non-diversifiable risk\n",
    "n_dr_2 = (weights[0]**2*PG_var_a) +(weights[1]**2*BEI_var_a)\n",
    "n_dr_2"
   ]
  },
  {
   "cell_type": "code",
   "execution_count": 32,
   "id": "7467811c",
   "metadata": {},
   "outputs": [
    {
     "data": {
      "text/plain": [
       "True"
      ]
     },
     "execution_count": 32,
     "metadata": {},
     "output_type": "execute_result"
    }
   ],
   "source": [
    "n_dr_1 == n_dr_2"
   ]
  },
  {
   "cell_type": "code",
   "execution_count": null,
   "id": "ffb0d376",
   "metadata": {},
   "outputs": [],
   "source": []
  }
 ],
 "metadata": {
  "kernelspec": {
   "display_name": "Python 3 (ipykernel)",
   "language": "python",
   "name": "python3"
  },
  "language_info": {
   "codemirror_mode": {
    "name": "ipython",
    "version": 3
   },
   "file_extension": ".py",
   "mimetype": "text/x-python",
   "name": "python",
   "nbconvert_exporter": "python",
   "pygments_lexer": "ipython3",
   "version": "3.8.12"
  }
 },
 "nbformat": 4,
 "nbformat_minor": 5
}
