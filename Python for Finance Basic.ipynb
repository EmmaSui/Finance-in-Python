{
 "cells": [
  {
   "cell_type": "code",
   "execution_count": 1,
   "id": "a0c0a5af",
   "metadata": {},
   "outputs": [],
   "source": [
    "import numpy as np\n",
    "import pandas as pd\n",
    "import matplotlib.pyplot as plt\n",
    "import math\n",
    "import random\n",
    "import statsmodels as sm\n",
    "from pandas_datareader import data as wb"
   ]
  },
  {
   "cell_type": "markdown",
   "id": "13e22904",
   "metadata": {},
   "source": [
    "# Some basic useful functions"
   ]
  },
  {
   "cell_type": "code",
   "execution_count": 3,
   "id": "263373fe",
   "metadata": {},
   "outputs": [
    {
     "data": {
      "text/plain": [
       "array([[0, 1, 2, 3],\n",
       "       [4, 5, 6, 7]])"
      ]
     },
     "execution_count": 3,
     "metadata": {},
     "output_type": "execute_result"
    }
   ],
   "source": [
    "a = np.array([[0,1,2,3],[4,5,6,7]])\n",
    "a"
   ]
  },
  {
   "cell_type": "markdown",
   "id": "f063c4de",
   "metadata": {},
   "source": [
    "array() returns a data structure in the Numpy array format. narray must be in the same data type and in the same shape."
   ]
  },
  {
   "cell_type": "code",
   "execution_count": 4,
   "id": "7fd36623",
   "metadata": {},
   "outputs": [
    {
     "data": {
      "text/plain": [
       "(2, 4)"
      ]
     },
     "execution_count": 4,
     "metadata": {},
     "output_type": "execute_result"
    }
   ],
   "source": [
    "a.shape"
   ]
  },
  {
   "cell_type": "markdown",
   "id": "0ca7d485",
   "metadata": {},
   "source": [
    "Interpretation of 2D array = matrix: similar to a vector. A vector of (3,5) in the x-axis y-axis chart is array([3,5]). 1D array can also be a vector."
   ]
  },
  {
   "cell_type": "code",
   "execution_count": 9,
   "id": "7ce2f68d",
   "metadata": {},
   "outputs": [
    {
     "data": {
      "text/plain": [
       "0    0.222358\n",
       "1    0.607130\n",
       "2    0.255155\n",
       "3    0.785084\n",
       "4    0.108568\n",
       "Name: Column, dtype: float64"
      ]
     },
     "execution_count": 9,
     "metadata": {},
     "output_type": "execute_result"
    }
   ],
   "source": [
    "series = pd.Series(np.random.random(5), name = 'Column')\n",
    "series"
   ]
  },
  {
   "cell_type": "markdown",
   "id": "981198e6",
   "metadata": {},
   "source": [
    "pd.Series(): used to create a single column of data"
   ]
  },
  {
   "cell_type": "markdown",
   "id": "3666c9b9",
   "metadata": {},
   "source": [
    "## Generating random numbers\n",
    "use the random model.\n",
    "\n",
    "random.random(): generate a random float in the range [0,1)\n",
    "\n",
    "random.randint(): randomizes over a provided interval and delivers an integer value.\n"
   ]
  },
  {
   "cell_type": "code",
   "execution_count": 6,
   "id": "89c7488b",
   "metadata": {},
   "outputs": [
    {
     "name": "stdout",
     "output_type": "stream",
     "text": [
      "0.09541531438885675\n"
     ]
    }
   ],
   "source": [
    "probability = random.random()\n",
    "print (probability)"
   ]
  },
  {
   "cell_type": "code",
   "execution_count": 7,
   "id": "b87accb3",
   "metadata": {},
   "outputs": [
    {
     "name": "stdout",
     "output_type": "stream",
     "text": [
      "5\n"
     ]
    }
   ],
   "source": [
    "number = random.randint(1,6)\n",
    "print(number)"
   ]
  },
  {
   "cell_type": "markdown",
   "id": "979e7f9e",
   "metadata": {},
   "source": [
    "The result includes 1 and 6."
   ]
  },
  {
   "cell_type": "code",
   "execution_count": 8,
   "id": "c0828792",
   "metadata": {},
   "outputs": [
    {
     "data": {
      "text/plain": [
       "array([[5, 5, 5, 5, 3, 2],\n",
       "       [5, 3, 5, 5, 4, 2],\n",
       "       [5, 4, 1, 3, 5, 2],\n",
       "       [3, 5, 1, 3, 5, 3]])"
      ]
     },
     "execution_count": 8,
     "metadata": {},
     "output_type": "execute_result"
    }
   ],
   "source": [
    "np.random.randint(1,6,(4,6))"
   ]
  },
  {
   "cell_type": "markdown",
   "id": "0af07ee2",
   "metadata": {},
   "source": [
    "random.randint used with numpy --> create a 4 by 6 matrix using number from 1 to 6."
   ]
  },
  {
   "cell_type": "markdown",
   "id": "87001486",
   "metadata": {},
   "source": [
    "## Importing and organizing data"
   ]
  },
  {
   "cell_type": "markdown",
   "id": "1bb3368f",
   "metadata": {},
   "source": [
    "Use datareader module"
   ]
  },
  {
   "cell_type": "code",
   "execution_count": 11,
   "id": "0ea86dc5",
   "metadata": {},
   "outputs": [
    {
     "data": {
      "text/html": [
       "<div>\n",
       "<style scoped>\n",
       "    .dataframe tbody tr th:only-of-type {\n",
       "        vertical-align: middle;\n",
       "    }\n",
       "\n",
       "    .dataframe tbody tr th {\n",
       "        vertical-align: top;\n",
       "    }\n",
       "\n",
       "    .dataframe thead th {\n",
       "        text-align: right;\n",
       "    }\n",
       "</style>\n",
       "<table border=\"1\" class=\"dataframe\">\n",
       "  <thead>\n",
       "    <tr style=\"text-align: right;\">\n",
       "      <th></th>\n",
       "      <th>High</th>\n",
       "      <th>Low</th>\n",
       "      <th>Open</th>\n",
       "      <th>Close</th>\n",
       "      <th>Volume</th>\n",
       "      <th>Adj Close</th>\n",
       "    </tr>\n",
       "    <tr>\n",
       "      <th>Date</th>\n",
       "      <th></th>\n",
       "      <th></th>\n",
       "      <th></th>\n",
       "      <th></th>\n",
       "      <th></th>\n",
       "      <th></th>\n",
       "    </tr>\n",
       "  </thead>\n",
       "  <tbody>\n",
       "    <tr>\n",
       "      <th>1995-01-03</th>\n",
       "      <td>15.625000</td>\n",
       "      <td>15.437500</td>\n",
       "      <td>15.468750</td>\n",
       "      <td>15.593750</td>\n",
       "      <td>3318400.0</td>\n",
       "      <td>7.820024</td>\n",
       "    </tr>\n",
       "    <tr>\n",
       "      <th>1995-01-04</th>\n",
       "      <td>15.656250</td>\n",
       "      <td>15.312500</td>\n",
       "      <td>15.531250</td>\n",
       "      <td>15.468750</td>\n",
       "      <td>2218800.0</td>\n",
       "      <td>7.757337</td>\n",
       "    </tr>\n",
       "    <tr>\n",
       "      <th>1995-01-05</th>\n",
       "      <td>15.437500</td>\n",
       "      <td>15.218750</td>\n",
       "      <td>15.375000</td>\n",
       "      <td>15.250000</td>\n",
       "      <td>2319600.0</td>\n",
       "      <td>7.647639</td>\n",
       "    </tr>\n",
       "    <tr>\n",
       "      <th>1995-01-06</th>\n",
       "      <td>15.406250</td>\n",
       "      <td>15.156250</td>\n",
       "      <td>15.156250</td>\n",
       "      <td>15.281250</td>\n",
       "      <td>3438000.0</td>\n",
       "      <td>7.663309</td>\n",
       "    </tr>\n",
       "    <tr>\n",
       "      <th>1995-01-09</th>\n",
       "      <td>15.406250</td>\n",
       "      <td>15.187500</td>\n",
       "      <td>15.343750</td>\n",
       "      <td>15.218750</td>\n",
       "      <td>1795200.0</td>\n",
       "      <td>7.631965</td>\n",
       "    </tr>\n",
       "    <tr>\n",
       "      <th>...</th>\n",
       "      <td>...</td>\n",
       "      <td>...</td>\n",
       "      <td>...</td>\n",
       "      <td>...</td>\n",
       "      <td>...</td>\n",
       "      <td>...</td>\n",
       "    </tr>\n",
       "    <tr>\n",
       "      <th>2022-11-14</th>\n",
       "      <td>143.559998</td>\n",
       "      <td>140.259995</td>\n",
       "      <td>140.509995</td>\n",
       "      <td>140.979996</td>\n",
       "      <td>8516200.0</td>\n",
       "      <td>140.979996</td>\n",
       "    </tr>\n",
       "    <tr>\n",
       "      <th>2022-11-15</th>\n",
       "      <td>143.199997</td>\n",
       "      <td>139.699997</td>\n",
       "      <td>142.089996</td>\n",
       "      <td>140.490005</td>\n",
       "      <td>7732400.0</td>\n",
       "      <td>140.490005</td>\n",
       "    </tr>\n",
       "    <tr>\n",
       "      <th>2022-11-16</th>\n",
       "      <td>142.910004</td>\n",
       "      <td>140.979996</td>\n",
       "      <td>141.500000</td>\n",
       "      <td>141.740005</td>\n",
       "      <td>6193700.0</td>\n",
       "      <td>141.740005</td>\n",
       "    </tr>\n",
       "    <tr>\n",
       "      <th>2022-11-17</th>\n",
       "      <td>141.690002</td>\n",
       "      <td>139.860001</td>\n",
       "      <td>141.110001</td>\n",
       "      <td>140.869995</td>\n",
       "      <td>5186300.0</td>\n",
       "      <td>140.869995</td>\n",
       "    </tr>\n",
       "    <tr>\n",
       "      <th>2022-11-18</th>\n",
       "      <td>142.759995</td>\n",
       "      <td>141.270004</td>\n",
       "      <td>141.919998</td>\n",
       "      <td>142.570007</td>\n",
       "      <td>5671400.0</td>\n",
       "      <td>142.570007</td>\n",
       "    </tr>\n",
       "  </tbody>\n",
       "</table>\n",
       "<p>7022 rows × 6 columns</p>\n",
       "</div>"
      ],
      "text/plain": [
       "                  High         Low        Open       Close     Volume  \\\n",
       "Date                                                                    \n",
       "1995-01-03   15.625000   15.437500   15.468750   15.593750  3318400.0   \n",
       "1995-01-04   15.656250   15.312500   15.531250   15.468750  2218800.0   \n",
       "1995-01-05   15.437500   15.218750   15.375000   15.250000  2319600.0   \n",
       "1995-01-06   15.406250   15.156250   15.156250   15.281250  3438000.0   \n",
       "1995-01-09   15.406250   15.187500   15.343750   15.218750  1795200.0   \n",
       "...                ...         ...         ...         ...        ...   \n",
       "2022-11-14  143.559998  140.259995  140.509995  140.979996  8516200.0   \n",
       "2022-11-15  143.199997  139.699997  142.089996  140.490005  7732400.0   \n",
       "2022-11-16  142.910004  140.979996  141.500000  141.740005  6193700.0   \n",
       "2022-11-17  141.690002  139.860001  141.110001  140.869995  5186300.0   \n",
       "2022-11-18  142.759995  141.270004  141.919998  142.570007  5671400.0   \n",
       "\n",
       "             Adj Close  \n",
       "Date                    \n",
       "1995-01-03    7.820024  \n",
       "1995-01-04    7.757337  \n",
       "1995-01-05    7.647639  \n",
       "1995-01-06    7.663309  \n",
       "1995-01-09    7.631965  \n",
       "...                ...  \n",
       "2022-11-14  140.979996  \n",
       "2022-11-15  140.490005  \n",
       "2022-11-16  141.740005  \n",
       "2022-11-17  140.869995  \n",
       "2022-11-18  142.570007  \n",
       "\n",
       "[7022 rows x 6 columns]"
      ]
     },
     "execution_count": 11,
     "metadata": {},
     "output_type": "execute_result"
    }
   ],
   "source": [
    "PG = wb.DataReader('PG',data_source='yahoo',start='1995-1-1')\n",
    "PG"
   ]
  },
  {
   "cell_type": "markdown",
   "id": "e71128e6",
   "metadata": {},
   "source": [
    "This provide the data package from web. First parameter is the ticker --> The name of the company that has the stock exchange. Second parameter is data source that is yahoo. And the 3rd parameter is which date to start to extract the data.\n",
    "\n",
    "The adjust close price difference from the starting date to the end date is due to the dividend paying to the stock owners."
   ]
  },
  {
   "cell_type": "code",
   "execution_count": 12,
   "id": "7d817366",
   "metadata": {},
   "outputs": [
    {
     "name": "stdout",
     "output_type": "stream",
     "text": [
      "<class 'pandas.core.frame.DataFrame'>\n",
      "DatetimeIndex: 7022 entries, 1995-01-03 to 2022-11-18\n",
      "Data columns (total 6 columns):\n",
      " #   Column     Non-Null Count  Dtype  \n",
      "---  ------     --------------  -----  \n",
      " 0   High       7022 non-null   float64\n",
      " 1   Low        7022 non-null   float64\n",
      " 2   Open       7022 non-null   float64\n",
      " 3   Close      7022 non-null   float64\n",
      " 4   Volume     7022 non-null   float64\n",
      " 5   Adj Close  7022 non-null   float64\n",
      "dtypes: float64(6)\n",
      "memory usage: 384.0 KB\n"
     ]
    }
   ],
   "source": [
    "PG.info()"
   ]
  },
  {
   "cell_type": "code",
   "execution_count": 14,
   "id": "da6eeb5b",
   "metadata": {},
   "outputs": [],
   "source": [
    "#extract the adjust close price for the five companies: P&G, Microsoft, AT&T, Ford, GE\n",
    "tickers = ['PG','MSFT','T','F','GE']\n",
    "new_data = pd.DataFrame()\n",
    "for t in tickers:\n",
    "    new_data[t] = wb.DataReader(t, data_source='yahoo',start='1995-1-1')['Adj Close']"
   ]
  },
  {
   "cell_type": "code",
   "execution_count": 15,
   "id": "6986fb1d",
   "metadata": {},
   "outputs": [
    {
     "data": {
      "text/html": [
       "<div>\n",
       "<style scoped>\n",
       "    .dataframe tbody tr th:only-of-type {\n",
       "        vertical-align: middle;\n",
       "    }\n",
       "\n",
       "    .dataframe tbody tr th {\n",
       "        vertical-align: top;\n",
       "    }\n",
       "\n",
       "    .dataframe thead th {\n",
       "        text-align: right;\n",
       "    }\n",
       "</style>\n",
       "<table border=\"1\" class=\"dataframe\">\n",
       "  <thead>\n",
       "    <tr style=\"text-align: right;\">\n",
       "      <th></th>\n",
       "      <th>PG</th>\n",
       "      <th>MSFT</th>\n",
       "      <th>T</th>\n",
       "      <th>F</th>\n",
       "      <th>GE</th>\n",
       "    </tr>\n",
       "    <tr>\n",
       "      <th>Date</th>\n",
       "      <th></th>\n",
       "      <th></th>\n",
       "      <th></th>\n",
       "      <th></th>\n",
       "      <th></th>\n",
       "    </tr>\n",
       "  </thead>\n",
       "  <tbody>\n",
       "    <tr>\n",
       "      <th>1995-01-03</th>\n",
       "      <td>7.820024</td>\n",
       "      <td>2.352808</td>\n",
       "      <td>2.685240</td>\n",
       "      <td>4.220634</td>\n",
       "      <td>32.767982</td>\n",
       "    </tr>\n",
       "    <tr>\n",
       "      <th>1995-01-04</th>\n",
       "      <td>7.757338</td>\n",
       "      <td>2.369911</td>\n",
       "      <td>2.678410</td>\n",
       "      <td>4.334194</td>\n",
       "      <td>32.767982</td>\n",
       "    </tr>\n",
       "    <tr>\n",
       "      <th>1995-01-05</th>\n",
       "      <td>7.647638</td>\n",
       "      <td>2.330819</td>\n",
       "      <td>2.720258</td>\n",
       "      <td>4.296340</td>\n",
       "      <td>32.848270</td>\n",
       "    </tr>\n",
       "    <tr>\n",
       "      <th>1995-01-06</th>\n",
       "      <td>7.663309</td>\n",
       "      <td>2.369911</td>\n",
       "      <td>2.720258</td>\n",
       "      <td>4.296340</td>\n",
       "      <td>32.687656</td>\n",
       "    </tr>\n",
       "    <tr>\n",
       "      <th>1995-01-09</th>\n",
       "      <td>7.631964</td>\n",
       "      <td>2.355252</td>\n",
       "      <td>2.711889</td>\n",
       "      <td>4.372047</td>\n",
       "      <td>32.366405</td>\n",
       "    </tr>\n",
       "  </tbody>\n",
       "</table>\n",
       "</div>"
      ],
      "text/plain": [
       "                  PG      MSFT         T         F         GE\n",
       "Date                                                         \n",
       "1995-01-03  7.820024  2.352808  2.685240  4.220634  32.767982\n",
       "1995-01-04  7.757338  2.369911  2.678410  4.334194  32.767982\n",
       "1995-01-05  7.647638  2.330819  2.720258  4.296340  32.848270\n",
       "1995-01-06  7.663309  2.369911  2.720258  4.296340  32.687656\n",
       "1995-01-09  7.631964  2.355252  2.711889  4.372047  32.366405"
      ]
     },
     "execution_count": 15,
     "metadata": {},
     "output_type": "execute_result"
    }
   ],
   "source": [
    "new_data.head()"
   ]
  },
  {
   "cell_type": "code",
   "execution_count": 2,
   "id": "dffcbc24",
   "metadata": {},
   "outputs": [],
   "source": [
    "import quandl"
   ]
  },
  {
   "cell_type": "markdown",
   "id": "e1581a3d",
   "metadata": {},
   "source": [
    "quandl provides with economic, financial and alternative datasets. Users can download free data."
   ]
  },
  {
   "cell_type": "code",
   "execution_count": 3,
   "id": "6a4d0092",
   "metadata": {},
   "outputs": [],
   "source": [
    "mydata_01 = quandl.get('FRED/GDP')"
   ]
  },
  {
   "cell_type": "code",
   "execution_count": 4,
   "id": "94045714",
   "metadata": {},
   "outputs": [
    {
     "data": {
      "text/html": [
       "<div>\n",
       "<style scoped>\n",
       "    .dataframe tbody tr th:only-of-type {\n",
       "        vertical-align: middle;\n",
       "    }\n",
       "\n",
       "    .dataframe tbody tr th {\n",
       "        vertical-align: top;\n",
       "    }\n",
       "\n",
       "    .dataframe thead th {\n",
       "        text-align: right;\n",
       "    }\n",
       "</style>\n",
       "<table border=\"1\" class=\"dataframe\">\n",
       "  <thead>\n",
       "    <tr style=\"text-align: right;\">\n",
       "      <th></th>\n",
       "      <th>Value</th>\n",
       "    </tr>\n",
       "    <tr>\n",
       "      <th>Date</th>\n",
       "      <th></th>\n",
       "    </tr>\n",
       "  </thead>\n",
       "  <tbody>\n",
       "    <tr>\n",
       "      <th>2019-07-01</th>\n",
       "      <td>21505.012</td>\n",
       "    </tr>\n",
       "    <tr>\n",
       "      <th>2019-10-01</th>\n",
       "      <td>21694.458</td>\n",
       "    </tr>\n",
       "    <tr>\n",
       "      <th>2020-01-01</th>\n",
       "      <td>21481.367</td>\n",
       "    </tr>\n",
       "    <tr>\n",
       "      <th>2020-04-01</th>\n",
       "      <td>19477.444</td>\n",
       "    </tr>\n",
       "    <tr>\n",
       "      <th>2020-07-01</th>\n",
       "      <td>21138.574</td>\n",
       "    </tr>\n",
       "    <tr>\n",
       "      <th>2020-10-01</th>\n",
       "      <td>21477.597</td>\n",
       "    </tr>\n",
       "    <tr>\n",
       "      <th>2021-01-01</th>\n",
       "      <td>22038.226</td>\n",
       "    </tr>\n",
       "    <tr>\n",
       "      <th>2021-04-01</th>\n",
       "      <td>22740.959</td>\n",
       "    </tr>\n",
       "    <tr>\n",
       "      <th>2021-07-01</th>\n",
       "      <td>23202.344</td>\n",
       "    </tr>\n",
       "    <tr>\n",
       "      <th>2021-10-01</th>\n",
       "      <td>23992.355</td>\n",
       "    </tr>\n",
       "  </tbody>\n",
       "</table>\n",
       "</div>"
      ],
      "text/plain": [
       "                Value\n",
       "Date                 \n",
       "2019-07-01  21505.012\n",
       "2019-10-01  21694.458\n",
       "2020-01-01  21481.367\n",
       "2020-04-01  19477.444\n",
       "2020-07-01  21138.574\n",
       "2020-10-01  21477.597\n",
       "2021-01-01  22038.226\n",
       "2021-04-01  22740.959\n",
       "2021-07-01  23202.344\n",
       "2021-10-01  23992.355"
      ]
     },
     "execution_count": 4,
     "metadata": {},
     "output_type": "execute_result"
    }
   ],
   "source": [
    "mydata_01.tail(10)"
   ]
  },
  {
   "cell_type": "code",
   "execution_count": 5,
   "id": "06260c5b",
   "metadata": {},
   "outputs": [],
   "source": [
    "#save the data extracted from quandl to local\n",
    "mydata_01.to_csv('example_01.csv')"
   ]
  },
  {
   "cell_type": "markdown",
   "id": "9e22a70a",
   "metadata": {},
   "source": [
    "To save as excel, use to_excel('')"
   ]
  },
  {
   "cell_type": "markdown",
   "id": "f2ed1b28",
   "metadata": {},
   "source": [
    "# Calculating and comparing rates of return in Python\n",
    "\n",
    "* simple rate of return = $\\frac{end price + dividends - beginning price}{beginning price}$\n",
    "\n",
    "    use when dealing with multiple assets over the same timeframe.\n",
    "\n",
    "* logarithmic rate of return = $log \\frac{end price + dividends - beginning price}{beginning price}$\n",
    "\n",
    "    use when you make calculations about a single asset over time\n",
    "\n",
    "* annual return = [(daily return +1)^ 365]*100"
   ]
  },
  {
   "cell_type": "code",
   "execution_count": 6,
   "id": "063d6563",
   "metadata": {},
   "outputs": [],
   "source": [
    "PG = wb.DataReader('PG',data_source ='yahoo',start='1995-1-1')"
   ]
  },
  {
   "cell_type": "code",
   "execution_count": 7,
   "id": "f18bd314",
   "metadata": {},
   "outputs": [
    {
     "data": {
      "text/html": [
       "<div>\n",
       "<style scoped>\n",
       "    .dataframe tbody tr th:only-of-type {\n",
       "        vertical-align: middle;\n",
       "    }\n",
       "\n",
       "    .dataframe tbody tr th {\n",
       "        vertical-align: top;\n",
       "    }\n",
       "\n",
       "    .dataframe thead th {\n",
       "        text-align: right;\n",
       "    }\n",
       "</style>\n",
       "<table border=\"1\" class=\"dataframe\">\n",
       "  <thead>\n",
       "    <tr style=\"text-align: right;\">\n",
       "      <th></th>\n",
       "      <th>High</th>\n",
       "      <th>Low</th>\n",
       "      <th>Open</th>\n",
       "      <th>Close</th>\n",
       "      <th>Volume</th>\n",
       "      <th>Adj Close</th>\n",
       "    </tr>\n",
       "    <tr>\n",
       "      <th>Date</th>\n",
       "      <th></th>\n",
       "      <th></th>\n",
       "      <th></th>\n",
       "      <th></th>\n",
       "      <th></th>\n",
       "      <th></th>\n",
       "    </tr>\n",
       "  </thead>\n",
       "  <tbody>\n",
       "    <tr>\n",
       "      <th>1995-01-03</th>\n",
       "      <td>15.62500</td>\n",
       "      <td>15.43750</td>\n",
       "      <td>15.46875</td>\n",
       "      <td>15.59375</td>\n",
       "      <td>3318400.0</td>\n",
       "      <td>7.820023</td>\n",
       "    </tr>\n",
       "    <tr>\n",
       "      <th>1995-01-04</th>\n",
       "      <td>15.65625</td>\n",
       "      <td>15.31250</td>\n",
       "      <td>15.53125</td>\n",
       "      <td>15.46875</td>\n",
       "      <td>2218800.0</td>\n",
       "      <td>7.757339</td>\n",
       "    </tr>\n",
       "    <tr>\n",
       "      <th>1995-01-05</th>\n",
       "      <td>15.43750</td>\n",
       "      <td>15.21875</td>\n",
       "      <td>15.37500</td>\n",
       "      <td>15.25000</td>\n",
       "      <td>2319600.0</td>\n",
       "      <td>7.647638</td>\n",
       "    </tr>\n",
       "    <tr>\n",
       "      <th>1995-01-06</th>\n",
       "      <td>15.40625</td>\n",
       "      <td>15.15625</td>\n",
       "      <td>15.15625</td>\n",
       "      <td>15.28125</td>\n",
       "      <td>3438000.0</td>\n",
       "      <td>7.663311</td>\n",
       "    </tr>\n",
       "    <tr>\n",
       "      <th>1995-01-09</th>\n",
       "      <td>15.40625</td>\n",
       "      <td>15.18750</td>\n",
       "      <td>15.34375</td>\n",
       "      <td>15.21875</td>\n",
       "      <td>1795200.0</td>\n",
       "      <td>7.631969</td>\n",
       "    </tr>\n",
       "  </tbody>\n",
       "</table>\n",
       "</div>"
      ],
      "text/plain": [
       "                High       Low      Open     Close     Volume  Adj Close\n",
       "Date                                                                    \n",
       "1995-01-03  15.62500  15.43750  15.46875  15.59375  3318400.0   7.820023\n",
       "1995-01-04  15.65625  15.31250  15.53125  15.46875  2218800.0   7.757339\n",
       "1995-01-05  15.43750  15.21875  15.37500  15.25000  2319600.0   7.647638\n",
       "1995-01-06  15.40625  15.15625  15.15625  15.28125  3438000.0   7.663311\n",
       "1995-01-09  15.40625  15.18750  15.34375  15.21875  1795200.0   7.631969"
      ]
     },
     "execution_count": 7,
     "metadata": {},
     "output_type": "execute_result"
    }
   ],
   "source": [
    "PG.head()"
   ]
  },
  {
   "cell_type": "code",
   "execution_count": 9,
   "id": "2f4979b4",
   "metadata": {},
   "outputs": [
    {
     "name": "stdout",
     "output_type": "stream",
     "text": [
      "Date\n",
      "1995-01-03         NaN\n",
      "1995-01-04   -0.008016\n",
      "1995-01-05   -0.014142\n",
      "1995-01-06    0.002049\n",
      "1995-01-09   -0.004090\n",
      "                ...   \n",
      "2022-11-15   -0.003476\n",
      "2022-11-16    0.008897\n",
      "2022-11-17   -0.006138\n",
      "2022-11-18    0.012068\n",
      "2022-11-21    0.012696\n",
      "Name: simple_return, Length: 7023, dtype: float64\n"
     ]
    }
   ],
   "source": [
    "#calculate simple rate of return\n",
    "PG['simple_return'] = (PG['Adj Close']/PG['Adj Close'].shift(1))-1\n",
    "print (PG['simple_return'])"
   ]
  },
  {
   "cell_type": "markdown",
   "id": "bb63bfe8",
   "metadata": {},
   "source": [
    "shift() function helps give the data with n number of lags. In this example, the shift gets the price from previous day."
   ]
  },
  {
   "cell_type": "code",
   "execution_count": 11,
   "id": "50859196",
   "metadata": {},
   "outputs": [
    {
     "data": {
      "text/plain": [
       "<AxesSubplot:xlabel='Date'>"
      ]
     },
     "execution_count": 11,
     "metadata": {},
     "output_type": "execute_result"
    },
    {
     "data": {
      "image/png": "[encoded data removed]",
      "text/plain": [
       "<Figure size 576x360 with 1 Axes>"
      ]
     },
     "metadata": {
      "needs_background": "light"
     },
     "output_type": "display_data"
    }
   ],
   "source": [
    "#plot the graph\n",
    "PG['simple_return'].plot(figsize=(8,5))"
   ]
  },
  {
   "cell_type": "code",
   "execution_count": 17,
   "id": "4aba25db",
   "metadata": {},
   "outputs": [
    {
     "data": {
      "text/plain": [
       "0.000515564381349465"
      ]
     },
     "execution_count": 17,
     "metadata": {},
     "output_type": "execute_result"
    }
   ],
   "source": [
    "#calculate the average daily return\n",
    "avg_returns_d = PG['simple_return'].mean()\n",
    "avg_returns_d"
   ]
  },
  {
   "cell_type": "code",
   "execution_count": 18,
   "id": "8893ced8",
   "metadata": {},
   "outputs": [
    {
     "data": {
      "text/plain": [
       "0.12889109533736623"
      ]
     },
     "execution_count": 18,
     "metadata": {},
     "output_type": "execute_result"
    }
   ],
   "source": [
    "#calculate the average annual return. We usually use 250 as the count of total trading day per year\n",
    "avg_returns_a = PG['simple_return'].mean()*250\n",
    "avg_returns_a"
   ]
  },
  {
   "cell_type": "code",
   "execution_count": 19,
   "id": "2e0d1756",
   "metadata": {},
   "outputs": [
    {
     "name": "stdout",
     "output_type": "stream",
     "text": [
      "12.9 %\n"
     ]
    }
   ],
   "source": [
    "print(str(round(avg_returns_a, 3)*100)+' %')"
   ]
  },
  {
   "cell_type": "code",
   "execution_count": 20,
   "id": "ac53b4bb",
   "metadata": {},
   "outputs": [
    {
     "name": "stdout",
     "output_type": "stream",
     "text": [
      "Date\n",
      "1995-01-03         NaN\n",
      "1995-01-04   -0.008048\n",
      "1995-01-05   -0.014242\n",
      "1995-01-06    0.002047\n",
      "1995-01-09   -0.004098\n",
      "                ...   \n",
      "2022-11-15   -0.003482\n",
      "2022-11-16    0.008858\n",
      "2022-11-17   -0.006157\n",
      "2022-11-18    0.011996\n",
      "2022-11-21    0.012616\n",
      "Name: log_return, Length: 7023, dtype: float64\n"
     ]
    }
   ],
   "source": [
    "#calculate log returns\n",
    "PG['log_return'] = np.log(PG['Adj Close']/PG['Adj Close'].shift(1))\n",
    "print (PG['log_return'])"
   ]
  },
  {
   "cell_type": "code",
   "execution_count": 21,
   "id": "c57889e4",
   "metadata": {},
   "outputs": [
    {
     "data": {
      "image/png": "[encoded data removed]",
      "text/plain": [
       "<Figure size 576x360 with 1 Axes>"
      ]
     },
     "metadata": {
      "needs_background": "light"
     },
     "output_type": "display_data"
    }
   ],
   "source": [
    "PG['log_return'].plot(figsize=(8,5))\n",
    "plt.show()"
   ]
  },
  {
   "cell_type": "code",
   "execution_count": 23,
   "id": "1fd1f2df",
   "metadata": {},
   "outputs": [
    {
     "data": {
      "text/plain": [
       "0.0004152323046351499"
      ]
     },
     "execution_count": 23,
     "metadata": {},
     "output_type": "execute_result"
    }
   ],
   "source": [
    "#calculate the average daily log return\n",
    "log_return_d = PG['log_return'].mean()\n",
    "log_return_d"
   ]
  },
  {
   "cell_type": "code",
   "execution_count": 25,
   "id": "b67d8e3a",
   "metadata": {},
   "outputs": [
    {
     "data": {
      "text/plain": [
       "0.10380807615878748"
      ]
     },
     "execution_count": 25,
     "metadata": {},
     "output_type": "execute_result"
    }
   ],
   "source": [
    "#calculate the average annual log return\n",
    "log_return_a = PG['log_return'].mean()*250\n",
    "log_return_a"
   ]
  },
  {
   "cell_type": "code",
   "execution_count": 26,
   "id": "db6d946b",
   "metadata": {},
   "outputs": [
    {
     "name": "stdout",
     "output_type": "stream",
     "text": [
      "10.4 %\n"
     ]
    }
   ],
   "source": [
    "print (str(round(log_return_a,3)*100)+' %')"
   ]
  },
  {
   "cell_type": "markdown",
   "id": "77deef16",
   "metadata": {},
   "source": [
    "## Calculating the return of a portfolio of securities"
   ]
  },
  {
   "cell_type": "code",
   "execution_count": 27,
   "id": "25c67ec9",
   "metadata": {},
   "outputs": [],
   "source": [
    "tickers =['PG','MSFT','F','GE']\n",
    "mydata = pd.DataFrame()\n",
    "for t in tickers:\n",
    "    mydata[t] = wb.DataReader(t,data_source='yahoo',start='1995-1-1')['Adj Close']"
   ]
  },
  {
   "cell_type": "code",
   "execution_count": 28,
   "id": "75f15063",
   "metadata": {},
   "outputs": [
    {
     "name": "stdout",
     "output_type": "stream",
     "text": [
      "<class 'pandas.core.frame.DataFrame'>\n",
      "DatetimeIndex: 7023 entries, 1995-01-03 to 2022-11-21\n",
      "Data columns (total 4 columns):\n",
      " #   Column  Non-Null Count  Dtype  \n",
      "---  ------  --------------  -----  \n",
      " 0   PG      7023 non-null   float64\n",
      " 1   MSFT    7023 non-null   float64\n",
      " 2   F       7023 non-null   float64\n",
      " 3   GE      7023 non-null   float64\n",
      "dtypes: float64(4)\n",
      "memory usage: 274.3 KB\n"
     ]
    }
   ],
   "source": [
    "mydata.info()"
   ]
  },
  {
   "cell_type": "code",
   "execution_count": 29,
   "id": "32ba18c8",
   "metadata": {},
   "outputs": [
    {
     "data": {
      "text/html": [
       "<div>\n",
       "<style scoped>\n",
       "    .dataframe tbody tr th:only-of-type {\n",
       "        vertical-align: middle;\n",
       "    }\n",
       "\n",
       "    .dataframe tbody tr th {\n",
       "        vertical-align: top;\n",
       "    }\n",
       "\n",
       "    .dataframe thead th {\n",
       "        text-align: right;\n",
       "    }\n",
       "</style>\n",
       "<table border=\"1\" class=\"dataframe\">\n",
       "  <thead>\n",
       "    <tr style=\"text-align: right;\">\n",
       "      <th></th>\n",
       "      <th>PG</th>\n",
       "      <th>MSFT</th>\n",
       "      <th>F</th>\n",
       "      <th>GE</th>\n",
       "    </tr>\n",
       "    <tr>\n",
       "      <th>Date</th>\n",
       "      <th></th>\n",
       "      <th></th>\n",
       "      <th></th>\n",
       "      <th></th>\n",
       "    </tr>\n",
       "  </thead>\n",
       "  <tbody>\n",
       "    <tr>\n",
       "      <th>1995-01-03</th>\n",
       "      <td>7.820023</td>\n",
       "      <td>2.352808</td>\n",
       "      <td>4.220634</td>\n",
       "      <td>32.767982</td>\n",
       "    </tr>\n",
       "    <tr>\n",
       "      <th>1995-01-04</th>\n",
       "      <td>7.757339</td>\n",
       "      <td>2.369911</td>\n",
       "      <td>4.334195</td>\n",
       "      <td>32.767982</td>\n",
       "    </tr>\n",
       "    <tr>\n",
       "      <th>1995-01-05</th>\n",
       "      <td>7.647638</td>\n",
       "      <td>2.330818</td>\n",
       "      <td>4.296342</td>\n",
       "      <td>32.848286</td>\n",
       "    </tr>\n",
       "    <tr>\n",
       "      <th>1995-01-06</th>\n",
       "      <td>7.663311</td>\n",
       "      <td>2.369911</td>\n",
       "      <td>4.296342</td>\n",
       "      <td>32.687668</td>\n",
       "    </tr>\n",
       "    <tr>\n",
       "      <th>1995-01-09</th>\n",
       "      <td>7.631964</td>\n",
       "      <td>2.355251</td>\n",
       "      <td>4.372047</td>\n",
       "      <td>32.366421</td>\n",
       "    </tr>\n",
       "  </tbody>\n",
       "</table>\n",
       "</div>"
      ],
      "text/plain": [
       "                  PG      MSFT         F         GE\n",
       "Date                                               \n",
       "1995-01-03  7.820023  2.352808  4.220634  32.767982\n",
       "1995-01-04  7.757339  2.369911  4.334195  32.767982\n",
       "1995-01-05  7.647638  2.330818  4.296342  32.848286\n",
       "1995-01-06  7.663311  2.369911  4.296342  32.687668\n",
       "1995-01-09  7.631964  2.355251  4.372047  32.366421"
      ]
     },
     "execution_count": 29,
     "metadata": {},
     "output_type": "execute_result"
    }
   ],
   "source": [
    "mydata.head()"
   ]
  },
  {
   "cell_type": "markdown",
   "id": "caab1842",
   "metadata": {},
   "source": [
    "### Normalization to 100\n",
    "Pt/P0 *100\n",
    "\n",
    "adjust the price to the first date to make all stock price from different company start at the same level. This is useful to compare the price change regardless of the price value."
   ]
  },
  {
   "cell_type": "code",
   "execution_count": 30,
   "id": "fd454865",
   "metadata": {},
   "outputs": [
    {
     "data": {
      "text/plain": [
       "PG       7.820023\n",
       "MSFT     2.352808\n",
       "F        4.220634\n",
       "GE      32.767982\n",
       "Name: 1995-01-03 00:00:00, dtype: float64"
      ]
     },
     "execution_count": 30,
     "metadata": {},
     "output_type": "execute_result"
    }
   ],
   "source": [
    "mydata.iloc[0]"
   ]
  },
  {
   "cell_type": "code",
   "execution_count": 31,
   "id": "5a314573",
   "metadata": {},
   "outputs": [
    {
     "data": {
      "image/png": "[encoded data removed]",
      "text/plain": [
       "<Figure size 1080x432 with 1 Axes>"
      ]
     },
     "metadata": {
      "needs_background": "light"
     },
     "output_type": "display_data"
    }
   ],
   "source": [
    "(mydata/mydata.iloc[0]*100).plot(figsize=(15,6))\n",
    "plt.show()"
   ]
  },
  {
   "cell_type": "code",
   "execution_count": 33,
   "id": "b048a2a4",
   "metadata": {},
   "outputs": [
    {
     "data": {
      "image/png": "[encoded data removed]",
      "text/plain": [
       "<Figure size 1080x432 with 1 Axes>"
      ]
     },
     "metadata": {
      "needs_background": "light"
     },
     "output_type": "display_data"
    }
   ],
   "source": [
    "#comparing the graph without normalization\n",
    "mydata.plot(figsize=(15,6))\n",
    "plt.show()"
   ]
  },
  {
   "cell_type": "code",
   "execution_count": 34,
   "id": "33a10167",
   "metadata": {},
   "outputs": [
    {
     "data": {
      "text/html": [
       "<div>\n",
       "<style scoped>\n",
       "    .dataframe tbody tr th:only-of-type {\n",
       "        vertical-align: middle;\n",
       "    }\n",
       "\n",
       "    .dataframe tbody tr th {\n",
       "        vertical-align: top;\n",
       "    }\n",
       "\n",
       "    .dataframe thead th {\n",
       "        text-align: right;\n",
       "    }\n",
       "</style>\n",
       "<table border=\"1\" class=\"dataframe\">\n",
       "  <thead>\n",
       "    <tr style=\"text-align: right;\">\n",
       "      <th></th>\n",
       "      <th>PG</th>\n",
       "      <th>MSFT</th>\n",
       "      <th>F</th>\n",
       "      <th>GE</th>\n",
       "    </tr>\n",
       "    <tr>\n",
       "      <th>Date</th>\n",
       "      <th></th>\n",
       "      <th></th>\n",
       "      <th></th>\n",
       "      <th></th>\n",
       "    </tr>\n",
       "  </thead>\n",
       "  <tbody>\n",
       "    <tr>\n",
       "      <th>1995-01-03</th>\n",
       "      <td>NaN</td>\n",
       "      <td>NaN</td>\n",
       "      <td>NaN</td>\n",
       "      <td>NaN</td>\n",
       "    </tr>\n",
       "    <tr>\n",
       "      <th>1995-01-04</th>\n",
       "      <td>-0.008016</td>\n",
       "      <td>0.007269</td>\n",
       "      <td>0.026906</td>\n",
       "      <td>0.000000</td>\n",
       "    </tr>\n",
       "    <tr>\n",
       "      <th>1995-01-05</th>\n",
       "      <td>-0.014141</td>\n",
       "      <td>-0.016496</td>\n",
       "      <td>-0.008734</td>\n",
       "      <td>0.002451</td>\n",
       "    </tr>\n",
       "    <tr>\n",
       "      <th>1995-01-06</th>\n",
       "      <td>0.002049</td>\n",
       "      <td>0.016772</td>\n",
       "      <td>0.000000</td>\n",
       "      <td>-0.004890</td>\n",
       "    </tr>\n",
       "    <tr>\n",
       "      <th>1995-01-09</th>\n",
       "      <td>-0.004091</td>\n",
       "      <td>-0.006186</td>\n",
       "      <td>0.017621</td>\n",
       "      <td>-0.009828</td>\n",
       "    </tr>\n",
       "  </tbody>\n",
       "</table>\n",
       "</div>"
      ],
      "text/plain": [
       "                  PG      MSFT         F        GE\n",
       "Date                                              \n",
       "1995-01-03       NaN       NaN       NaN       NaN\n",
       "1995-01-04 -0.008016  0.007269  0.026906  0.000000\n",
       "1995-01-05 -0.014141 -0.016496 -0.008734  0.002451\n",
       "1995-01-06  0.002049  0.016772  0.000000 -0.004890\n",
       "1995-01-09 -0.004091 -0.006186  0.017621 -0.009828"
      ]
     },
     "execution_count": 34,
     "metadata": {},
     "output_type": "execute_result"
    }
   ],
   "source": [
    "#calculte the simple return of these stocks\n",
    "returns = (mydata/mydata.shift(1))-1\n",
    "returns.head()"
   ]
  },
  {
   "cell_type": "code",
   "execution_count": 35,
   "id": "1b4c9835",
   "metadata": {},
   "outputs": [],
   "source": [
    "#to calculate the return of a portfolio, multiply the weight of each security with the return of that security and sum\n",
    "weights = np.array([0.25,0.25,0.25,0.25])"
   ]
  },
  {
   "cell_type": "code",
   "execution_count": 40,
   "id": "acdfd2e2",
   "metadata": {},
   "outputs": [
    {
     "data": {
      "text/plain": [
       "array([            nan,  6.53989931e-03, -9.22997273e-03, ...,\n",
       "        3.64961164e-05,  4.24248245e-03,  4.51839118e-03])"
      ]
     },
     "execution_count": 40,
     "metadata": {},
     "output_type": "execute_result"
    }
   ],
   "source": [
    "#calculate the portfolio return for each day\n",
    "np.dot(returns,weights)"
   ]
  },
  {
   "cell_type": "markdown",
   "id": "f252632b",
   "metadata": {},
   "source": [
    "np.dot(): calcuates vector or matrix products, the output is the dot product"
   ]
  },
  {
   "cell_type": "code",
   "execution_count": 37,
   "id": "07197d2d",
   "metadata": {},
   "outputs": [
    {
     "data": {
      "text/plain": [
       "PG      0.128891\n",
       "MSFT    0.214405\n",
       "F       0.123762\n",
       "GE      0.085983\n",
       "dtype: float64"
      ]
     },
     "execution_count": 37,
     "metadata": {},
     "output_type": "execute_result"
    }
   ],
   "source": [
    "annual_returns = returns.mean()*250\n",
    "annual_returns"
   ]
  },
  {
   "cell_type": "code",
   "execution_count": 41,
   "id": "906d0a8a",
   "metadata": {},
   "outputs": [
    {
     "data": {
      "text/plain": [
       "0.13826040723505278"
      ]
     },
     "execution_count": 41,
     "metadata": {},
     "output_type": "execute_result"
    }
   ],
   "source": [
    "#calculate the portfolio return for the entire year\n",
    "np.dot(annual_returns,weights)"
   ]
  },
  {
   "cell_type": "code",
   "execution_count": 39,
   "id": "98200257",
   "metadata": {},
   "outputs": [
    {
     "data": {
      "text/plain": [
       "'13.8 %'"
      ]
     },
     "execution_count": 39,
     "metadata": {},
     "output_type": "execute_result"
    }
   ],
   "source": [
    "pfolio_1 = str(round(np.dot(annual_returns,weights),3)*100) + ' %'\n",
    "pfolio_1"
   ]
  },
  {
   "cell_type": "markdown",
   "id": "829cfe39",
   "metadata": {},
   "source": [
    "## Calculating the rate of return of indices\n",
    "\n",
    "S&P500: GSPC\n",
    "\n",
    "NASDAQ: IXIC\n",
    "\n",
    "German DAX: GDAXI\n",
    "\n",
    "London FTSE: FTSE"
   ]
  },
  {
   "cell_type": "code",
   "execution_count": 44,
   "id": "a0f03fa4",
   "metadata": {},
   "outputs": [],
   "source": [
    "tickers = ['^GSPC','^IXIC','^GDAXI']\n",
    "ind_data = pd.DataFrame()\n",
    "for t in tickers:\n",
    "    ind_data[t]=wb.DataReader(t,data_source='yahoo',start='1997-1-1')['Adj Close']"
   ]
  },
  {
   "cell_type": "code",
   "execution_count": 45,
   "id": "769537f2",
   "metadata": {},
   "outputs": [
    {
     "data": {
      "text/html": [
       "<div>\n",
       "<style scoped>\n",
       "    .dataframe tbody tr th:only-of-type {\n",
       "        vertical-align: middle;\n",
       "    }\n",
       "\n",
       "    .dataframe tbody tr th {\n",
       "        vertical-align: top;\n",
       "    }\n",
       "\n",
       "    .dataframe thead th {\n",
       "        text-align: right;\n",
       "    }\n",
       "</style>\n",
       "<table border=\"1\" class=\"dataframe\">\n",
       "  <thead>\n",
       "    <tr style=\"text-align: right;\">\n",
       "      <th></th>\n",
       "      <th>^GSPC</th>\n",
       "      <th>^IXIC</th>\n",
       "      <th>^GDAXI</th>\n",
       "    </tr>\n",
       "    <tr>\n",
       "      <th>Date</th>\n",
       "      <th></th>\n",
       "      <th></th>\n",
       "      <th></th>\n",
       "    </tr>\n",
       "  </thead>\n",
       "  <tbody>\n",
       "    <tr>\n",
       "      <th>1997-01-02</th>\n",
       "      <td>737.010010</td>\n",
       "      <td>1280.699951</td>\n",
       "      <td>2820.810059</td>\n",
       "    </tr>\n",
       "    <tr>\n",
       "      <th>1997-01-03</th>\n",
       "      <td>748.030029</td>\n",
       "      <td>1310.680054</td>\n",
       "      <td>2863.260010</td>\n",
       "    </tr>\n",
       "    <tr>\n",
       "      <th>1997-01-06</th>\n",
       "      <td>747.650024</td>\n",
       "      <td>1316.400024</td>\n",
       "      <td>2890.199951</td>\n",
       "    </tr>\n",
       "    <tr>\n",
       "      <th>1997-01-07</th>\n",
       "      <td>753.229980</td>\n",
       "      <td>1327.729980</td>\n",
       "      <td>2876.340088</td>\n",
       "    </tr>\n",
       "    <tr>\n",
       "      <th>1997-01-08</th>\n",
       "      <td>748.409973</td>\n",
       "      <td>1320.349976</td>\n",
       "      <td>2904.080078</td>\n",
       "    </tr>\n",
       "  </tbody>\n",
       "</table>\n",
       "</div>"
      ],
      "text/plain": [
       "                 ^GSPC        ^IXIC       ^GDAXI\n",
       "Date                                            \n",
       "1997-01-02  737.010010  1280.699951  2820.810059\n",
       "1997-01-03  748.030029  1310.680054  2863.260010\n",
       "1997-01-06  747.650024  1316.400024  2890.199951\n",
       "1997-01-07  753.229980  1327.729980  2876.340088\n",
       "1997-01-08  748.409973  1320.349976  2904.080078"
      ]
     },
     "execution_count": 45,
     "metadata": {},
     "output_type": "execute_result"
    }
   ],
   "source": [
    "ind_data.head()"
   ]
  },
  {
   "cell_type": "code",
   "execution_count": 46,
   "id": "24834744",
   "metadata": {},
   "outputs": [
    {
     "data": {
      "image/png": "[encoded data removed]",
      "text/plain": [
       "<Figure size 1080x432 with 1 Axes>"
      ]
     },
     "metadata": {
      "needs_background": "light"
     },
     "output_type": "display_data"
    }
   ],
   "source": [
    "#normalize to 100\n",
    "(ind_data/ind_data.iloc[0]*100).plot(figsize=(15,6))\n",
    "plt.show()"
   ]
  },
  {
   "cell_type": "code",
   "execution_count": 47,
   "id": "77962708",
   "metadata": {},
   "outputs": [
    {
     "data": {
      "text/html": [
       "<div>\n",
       "<style scoped>\n",
       "    .dataframe tbody tr th:only-of-type {\n",
       "        vertical-align: middle;\n",
       "    }\n",
       "\n",
       "    .dataframe tbody tr th {\n",
       "        vertical-align: top;\n",
       "    }\n",
       "\n",
       "    .dataframe thead th {\n",
       "        text-align: right;\n",
       "    }\n",
       "</style>\n",
       "<table border=\"1\" class=\"dataframe\">\n",
       "  <thead>\n",
       "    <tr style=\"text-align: right;\">\n",
       "      <th></th>\n",
       "      <th>^GSPC</th>\n",
       "      <th>^IXIC</th>\n",
       "      <th>^GDAXI</th>\n",
       "    </tr>\n",
       "    <tr>\n",
       "      <th>Date</th>\n",
       "      <th></th>\n",
       "      <th></th>\n",
       "      <th></th>\n",
       "    </tr>\n",
       "  </thead>\n",
       "  <tbody>\n",
       "    <tr>\n",
       "      <th>1997-01-02</th>\n",
       "      <td>NaN</td>\n",
       "      <td>NaN</td>\n",
       "      <td>NaN</td>\n",
       "    </tr>\n",
       "    <tr>\n",
       "      <th>1997-01-03</th>\n",
       "      <td>0.014952</td>\n",
       "      <td>0.023409</td>\n",
       "      <td>0.015049</td>\n",
       "    </tr>\n",
       "    <tr>\n",
       "      <th>1997-01-06</th>\n",
       "      <td>-0.000508</td>\n",
       "      <td>0.004364</td>\n",
       "      <td>0.009409</td>\n",
       "    </tr>\n",
       "    <tr>\n",
       "      <th>1997-01-07</th>\n",
       "      <td>0.007463</td>\n",
       "      <td>0.008607</td>\n",
       "      <td>-0.004795</td>\n",
       "    </tr>\n",
       "    <tr>\n",
       "      <th>1997-01-08</th>\n",
       "      <td>-0.006399</td>\n",
       "      <td>-0.005558</td>\n",
       "      <td>0.009644</td>\n",
       "    </tr>\n",
       "    <tr>\n",
       "      <th>...</th>\n",
       "      <td>...</td>\n",
       "      <td>...</td>\n",
       "      <td>...</td>\n",
       "    </tr>\n",
       "    <tr>\n",
       "      <th>2022-11-15</th>\n",
       "      <td>0.008713</td>\n",
       "      <td>0.014486</td>\n",
       "      <td>0.004556</td>\n",
       "    </tr>\n",
       "    <tr>\n",
       "      <th>2022-11-16</th>\n",
       "      <td>-0.008252</td>\n",
       "      <td>-0.015385</td>\n",
       "      <td>-0.010048</td>\n",
       "    </tr>\n",
       "    <tr>\n",
       "      <th>2022-11-17</th>\n",
       "      <td>-0.003089</td>\n",
       "      <td>-0.003460</td>\n",
       "      <td>0.002273</td>\n",
       "    </tr>\n",
       "    <tr>\n",
       "      <th>2022-11-18</th>\n",
       "      <td>0.004759</td>\n",
       "      <td>0.000099</td>\n",
       "      <td>0.011599</td>\n",
       "    </tr>\n",
       "    <tr>\n",
       "      <th>2022-11-21</th>\n",
       "      <td>-0.003884</td>\n",
       "      <td>-0.010905</td>\n",
       "      <td>-0.003598</td>\n",
       "    </tr>\n",
       "  </tbody>\n",
       "</table>\n",
       "<p>6517 rows × 3 columns</p>\n",
       "</div>"
      ],
      "text/plain": [
       "               ^GSPC     ^IXIC    ^GDAXI\n",
       "Date                                    \n",
       "1997-01-02       NaN       NaN       NaN\n",
       "1997-01-03  0.014952  0.023409  0.015049\n",
       "1997-01-06 -0.000508  0.004364  0.009409\n",
       "1997-01-07  0.007463  0.008607 -0.004795\n",
       "1997-01-08 -0.006399 -0.005558  0.009644\n",
       "...              ...       ...       ...\n",
       "2022-11-15  0.008713  0.014486  0.004556\n",
       "2022-11-16 -0.008252 -0.015385 -0.010048\n",
       "2022-11-17 -0.003089 -0.003460  0.002273\n",
       "2022-11-18  0.004759  0.000099  0.011599\n",
       "2022-11-21 -0.003884 -0.010905 -0.003598\n",
       "\n",
       "[6517 rows x 3 columns]"
      ]
     },
     "execution_count": 47,
     "metadata": {},
     "output_type": "execute_result"
    }
   ],
   "source": [
    "#calculate the simple return\n",
    "ind_returns = (ind_data/ind_data.shift(1)) -1\n",
    "ind_returns"
   ]
  },
  {
   "cell_type": "code",
   "execution_count": 48,
   "id": "d81935ce",
   "metadata": {},
   "outputs": [
    {
     "data": {
      "text/plain": [
       "^GSPC     0.083791\n",
       "^IXIC     0.114488\n",
       "^GDAXI    0.075354\n",
       "dtype: float64"
      ]
     },
     "execution_count": 48,
     "metadata": {},
     "output_type": "execute_result"
    }
   ],
   "source": [
    "annual_ind_returns = ind_returns.mean()*250\n",
    "annual_ind_returns"
   ]
  },
  {
   "cell_type": "code",
   "execution_count": null,
   "id": "e1e0a2c9",
   "metadata": {},
   "outputs": [],
   "source": []
  }
 ],
 "metadata": {
  "kernelspec": {
   "display_name": "Python 3 (ipykernel)",
   "language": "python",
   "name": "python3"
  },
  "language_info": {
   "codemirror_mode": {
    "name": "ipython",
    "version": 3
   },
   "file_extension": ".py",
   "mimetype": "text/x-python",
   "name": "python",
   "nbconvert_exporter": "python",
   "pygments_lexer": "ipython3",
   "version": "3.8.12"
  }
 },
 "nbformat": 4,
 "nbformat_minor": 5
}
